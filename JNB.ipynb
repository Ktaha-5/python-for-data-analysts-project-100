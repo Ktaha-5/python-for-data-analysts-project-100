{
 "cells": [
  {
   "cell_type": "code",
   "execution_count": 1,
   "id": "f25758fb-a223-4a3c-90e1-96ff1bd60758",
   "metadata": {},
   "outputs": [],
   "source": [
    "import pandas as pd\n",
    "import matplotlib.pyplot as plt\n",
    "import numpy as np\n",
    "import seaborn as sns\n",
    "import requests\n",
    "import plotly.express as px"
   ]
  },
  {
   "cell_type": "markdown",
   "id": "151c6d4d-7aa2-4e10-b746-21b434b31c7a",
   "metadata": {},
   "source": [
    "# Шаг 1"
   ]
  },
  {
   "cell_type": "code",
   "execution_count": 2,
   "id": "08e5f1a9-dfe1-45e7-9e91-3cd09e08a4b2",
   "metadata": {},
   "outputs": [
    {
     "data": {
      "text/plain": [
       "<bound method NDFrame.describe of                                      uuid platform  \\\n",
       "0    1de9ea66-70d3-4a1f-8735-df5ef7697fb9      web   \n",
       "1    f149f542-e935-4870-9734-6b4501eaf614      web   \n",
       "2    f149f542-e935-4870-9734-6b4501eaf614      web   \n",
       "3    08f0ebd4-950c-4dd9-8e97-b5bdf073eed1      web   \n",
       "4    08f0ebd4-950c-4dd9-8e97-b5bdf073eed1      web   \n",
       "..                                    ...      ...   \n",
       "995  8bc047ac-dc03-4a61-8037-7371f729fa34      web   \n",
       "996  8bc047ac-dc03-4a61-8037-7371f729fa34      web   \n",
       "997  3f78ac76-6f81-43ec-85e8-f3cf74fc8fdc      web   \n",
       "998  3f78ac76-6f81-43ec-85e8-f3cf74fc8fdc      web   \n",
       "999  1408b7ab-6450-4337-b57d-fd8a64b7fe97      web   \n",
       "\n",
       "                                            user_agent                 date  \n",
       "0    Mozilla/5.0 (Macintosh; Intel Mac OS X 10_11_2...  2023-03-01T13:29:22  \n",
       "1    Mozilla/5.0 (X11; CrOS x86_64 8172.45.0) Apple...  2023-03-01T16:44:28  \n",
       "2    Mozilla/5.0 (X11; CrOS x86_64 8172.45.0) Apple...  2023-03-06T06:12:36  \n",
       "3    Mozilla/5.0 (X11; Ubuntu; Linux x86_64; rv:109...  2023-03-01T20:16:37  \n",
       "4    Mozilla/5.0 (X11; Ubuntu; Linux x86_64; rv:109...  2023-03-05T17:42:47  \n",
       "..                                                 ...                  ...  \n",
       "995  Mozilla/5.0 (X11; Ubuntu; Linux x86_64; rv:15....  2023-03-02T23:57:06  \n",
       "996  Mozilla/5.0 (X11; Ubuntu; Linux x86_64; rv:15....  2023-03-07T23:05:08  \n",
       "997  Mozilla/5.0 (Macintosh; Intel Mac OS X 10_15_7...  2023-03-02T12:47:09  \n",
       "998  Mozilla/5.0 (Macintosh; Intel Mac OS X 10_15_7...  2023-03-07T00:07:34  \n",
       "999  Mozilla/5.0 (Windows NT 10.0; Win64; x64) Appl...  2023-03-02T10:10:51  \n",
       "\n",
       "[1000 rows x 4 columns]>"
      ]
     },
     "execution_count": 2,
     "metadata": {},
     "output_type": "execute_result"
    }
   ],
   "source": [
    "url = 'https://drive.google.com/uc?id=1QosQQ4RRNR9rkL4t7sB707h2Uy0XfYJe&export=download'\n",
    "df = pd.read_csv(url)\n",
    "df.describe"
   ]
  },
  {
   "cell_type": "code",
   "execution_count": 3,
   "id": "67a64b7e-d47c-4e92-932c-398864afdef9",
   "metadata": {},
   "outputs": [
    {
     "data": {
      "text/plain": [
       "<bound method NDFrame.describe of                     date  user_id                    email platform  \\\n",
       "0    2023-03-01T00:25:39  8838849     joseph95@example.org      web   \n",
       "1    2023-03-01T14:53:01  8741065  janetsuarez@example.net      web   \n",
       "2    2023-03-01T14:27:36  1866654     robert67@example.org      web   \n",
       "3    2023-03-01T02:42:34  1577584         elam@example.net      web   \n",
       "4    2023-03-01T10:27:14  4765395  stephanie68@example.net      web   \n",
       "..                   ...      ...                      ...      ...   \n",
       "995  2023-03-05T03:19:40  6414793  jerryrivera@example.com  android   \n",
       "996  2023-03-05T15:03:48    53167      laura65@example.net  android   \n",
       "997  2023-03-05T09:51:08  4969623    jasmine42@example.net  android   \n",
       "998  2023-03-05T16:25:59  7636873  imclaughlin@example.net  android   \n",
       "999  2023-03-05T11:17:41  7551697  jacobgarcia@example.org  android   \n",
       "\n",
       "    registration_type  \n",
       "0              google  \n",
       "1              yandex  \n",
       "2              google  \n",
       "3               apple  \n",
       "4              yandex  \n",
       "..                ...  \n",
       "995            google  \n",
       "996            google  \n",
       "997             email  \n",
       "998            google  \n",
       "999            google  \n",
       "\n",
       "[1000 rows x 5 columns]>"
      ]
     },
     "execution_count": 3,
     "metadata": {},
     "output_type": "execute_result"
    }
   ],
   "source": [
    "url = 'https://drive.google.com/uc?id=1AeQz0kaSgz0lxYSDtuNm36muhy5fRCzZ&export=download'\n",
    "df = pd.read_csv(url)\n",
    "df.describe"
   ]
  },
  {
   "cell_type": "markdown",
   "id": "e5e509cc-41ee-4b68-83b8-3eadc4ec58be",
   "metadata": {},
   "source": [
    "## Шаг 2"
   ]
  },
  {
   "cell_type": "code",
   "execution_count": 14,
   "id": "0318ba44-c0a1-4874-b171-4df03011fcfe",
   "metadata": {},
   "outputs": [
    {
     "name": "stdout",
     "output_type": "stream",
     "text": [
      "[{'visit_id': '1de9ea66-70d3-4a1f-8735-df5ef7697fb9', 'platform': 'web', 'user_agent': 'Mozilla/5.0 (Windows NT 10.0; Win64; x64) AppleWebKit/537.36 (KHTML, like Gecko) Chrome/117.0.0.0 Safari/537.36 Edg/117.0.2045.6', 'datetime': '2023-03-01T10:36:22'}, {'visit_id': 'f149f542-e935-4870-9734-6b4501eaf614', 'platform': 'web', 'user_agent': 'Mozilla/5.0 (Windows NT 10.0; WOW64; Trident/7.0; rv:11.0) like Geck', 'datetime': '2023-03-01T06:25:00'}, {'visit_id': '08f0ebd4-950c-4dd9-8e97-b5bdf073eed1', 'platform': 'web', 'user_agent': 'Mozilla/5.0 (Macintosh; Intel Mac OS X 10_11_2) AppleWebKit/601.3.9 (KHTML, like Gecko) Version/9.0.2 Safari/601.3.9', 'datetime': '2023-03-01T10:26:13'}, {'visit_id': '19322fed-157c-49c6-b16e-2d5cabeb9592', 'platform': 'web', 'user_agent': 'Mozilla/5.0 (Macintosh; Intel Mac OS X 10_15_7) AppleWebKit/537.36 (KHTML, like Gecko) Chrome/118.0.0.0 Safari/537.36', 'datetime': '2023-03-01T12:33:06'}, {'visit_id': '04762a22-3c9f-40c9-9ac9-6628c4381836', 'platform': 'web', 'user_agent': 'Mozilla/5.0 (Windows NT 10.0; Win64; x64) AppleWebKit/537.36 (KHTML, like Gecko) Chrome/109.0.0.0 Safari/537.36', 'datetime': '2023-03-01T01:38:35'}]\n",
      "\n",
      "\n",
      "[{'datetime': '2023-03-01T07:40:13', 'user_id': '2e0f6bb8-b029-4f45-a786-2b53990d37f1', 'email': 'ebyrd@example.org', 'platform': 'web', 'registration_type': 'google'}, {'datetime': '2023-03-01T13:14:00', 'user_id': 'f007f97c-9d8b-48b5-af08-119bb8f6d9b6', 'email': 'knightgerald@example.org', 'platform': 'web', 'registration_type': 'email'}, {'datetime': '2023-03-01T03:05:50', 'user_id': '24ff46ae-32b3-4a74-8f27-7cf0b8f32f15', 'email': 'cherylthompson@example.com', 'platform': 'web', 'registration_type': 'apple'}, {'datetime': '2023-03-01T00:04:47', 'user_id': '3e9914e1-5d73-4c23-b25d-b59a3aeb2b60', 'email': 'halldavid@example.org', 'platform': 'web', 'registration_type': 'email'}, {'datetime': '2023-03-01T18:31:52', 'user_id': '27f875fc-f8ce-4aeb-8722-0ecb283d0760', 'email': 'denise86@example.net', 'platform': 'web', 'registration_type': 'google'}]\n"
     ]
    }
   ],
   "source": [
    "begin_date = \"2023-03-01\"\n",
    "end_date = \"2023-09-01\"\n",
    "base_url = \"https://data-charts-api.hexlet.app\"\n",
    "\n",
    "visits_url = f\"{base_url}/visits?begin={begin_date}&end={end_date}\"\n",
    "registrations_url = f\"{base_url}/registrations?begin={begin_date}&end={end_date}\"\n",
    "\n",
    "visits_response = requests.get(visits_url)\n",
    "visits_data = visits_response.json()\n",
    "\n",
    "registrations_response = requests.get(registrations_url)\n",
    "registrations_data = registrations_response.json()\n",
    "\n",
    "print(visits_data[0:5])\n",
    "print(\"\\n\")\n",
    "print(registrations_data[0:5])"
   ]
  },
  {
   "cell_type": "markdown",
   "id": "6629b185-06e8-4f58-9f32-bb89712a3757",
   "metadata": {},
   "source": [
    "# Шаг 3"
   ]
  },
  {
   "cell_type": "code",
   "execution_count": 18,
   "id": "79758504-570e-45a6-9fdf-ba85e246cbcb",
   "metadata": {},
   "outputs": [
    {
     "name": "stdout",
     "output_type": "stream",
     "text": [
      "      date_group platform  visits  registrations  conversion\n",
      "0  1677628988000      web     1.0            0.0         0.0\n",
      "1  1677629037000      web     1.0            0.0         0.0\n",
      "2  1677629087000      web     0.0            1.0         inf\n",
      "3  1677629490000      web     1.0            0.0         0.0\n",
      "4  1677630180000  android     0.0            1.0         inf\n"
     ]
    }
   ],
   "source": [
    "visits_df = pd.DataFrame(visits_data)\n",
    "registrations_df = pd.DataFrame(registrations_data)\n",
    "\n",
    "visits_df.rename(columns={'datetime': 'date'}, inplace=True)\n",
    "registrations_df.rename(columns={'datetime': 'date'}, inplace=True)\n",
    "\n",
    "visits_df = visits_df[~visits_df['user_agent'].str.lower().str.contains('bot')]\n",
    "\n",
    "visits_df['date'] = pd.to_datetime(visits_df['date'])\n",
    "registrations_df['date'] = pd.to_datetime(registrations_df['date'])\n",
    "\n",
    "visits_df = visits_df.sort_values('date').drop_duplicates(subset='visit_id', keep='last')\n",
    "\n",
    "visits_grouped = (\n",
    "    visits_df\n",
    "    .groupby(['date', 'platform'])\n",
    "    .agg(visits=('visit_id', 'count'))\n",
    "    .reset_index()\n",
    ")\n",
    "\n",
    "registrations_grouped = (\n",
    "    registrations_df\n",
    "    .groupby(['date', 'platform'])\n",
    "    .agg(registrations=('user_id', 'count'))\n",
    "    .reset_index()\n",
    ")\n",
    "\n",
    "conversion_df = pd.merge(visits_grouped, registrations_grouped,\n",
    "                         on=['date', 'platform'], how='outer')\n",
    "\n",
    "conversion_df[['visits', 'registrations']] = conversion_df[['visits', 'registrations']].fillna(0)\n",
    "\n",
    "conversion_df['conversion'] = (conversion_df['registrations'] / conversion_df['visits']) * 100\n",
    "conversion_df['conversion'] = conversion_df['conversion'].round(6)\n",
    "\n",
    "conversion_df.rename(columns={'date': 'date_group'}, inplace=True)\n",
    "\n",
    "conversion_df = conversion_df.sort_values('date_group')\n",
    "\n",
    "conversion_df['date_group'] = conversion_df['date_group'].astype('int64') // 10**6\n",
    "\n",
    "conversion_df.to_json('conversion.json')\n",
    "\n",
    "print(conversion_df.head())"
   ]
  },
  {
   "cell_type": "code",
   "execution_count": null,
   "id": "16b41608-d9be-4665-8688-63d8b3127ee3",
   "metadata": {},
   "outputs": [],
   "source": []
  }
 ],
 "metadata": {
  "kernelspec": {
   "display_name": "Python [conda env:base] *",
   "language": "python",
   "name": "conda-base-py"
  },
  "language_info": {
   "codemirror_mode": {
    "name": "ipython",
    "version": 3
   },
   "file_extension": ".py",
   "mimetype": "text/x-python",
   "name": "python",
   "nbconvert_exporter": "python",
   "pygments_lexer": "ipython3",
   "version": "3.12.7"
  }
 },
 "nbformat": 4,
 "nbformat_minor": 5
}
