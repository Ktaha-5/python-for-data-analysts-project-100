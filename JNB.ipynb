{
 "cells": [
  {
   "cell_type": "code",
   "execution_count": 4,
   "id": "f25758fb-a223-4a3c-90e1-96ff1bd60758",
   "metadata": {},
   "outputs": [],
   "source": [
    "import pandas as pd\n",
    "import matplotlib.pyplot as plt\n",
    "import numpy as np\n",
    "import seaborn as sns\n",
    "import requests\n",
    "import plotly.express as px"
   ]
  },
  {
   "cell_type": "markdown",
   "id": "151c6d4d-7aa2-4e10-b746-21b434b31c7a",
   "metadata": {},
   "source": [
    "# Шаг 1"
   ]
  },
  {
   "cell_type": "code",
   "execution_count": 5,
   "id": "08e5f1a9-dfe1-45e7-9e91-3cd09e08a4b2",
   "metadata": {},
   "outputs": [
    {
     "data": {
      "text/plain": [
       "<bound method NDFrame.describe of                                      uuid platform  \\\n",
       "0    1de9ea66-70d3-4a1f-8735-df5ef7697fb9      web   \n",
       "1    f149f542-e935-4870-9734-6b4501eaf614      web   \n",
       "2    f149f542-e935-4870-9734-6b4501eaf614      web   \n",
       "3    08f0ebd4-950c-4dd9-8e97-b5bdf073eed1      web   \n",
       "4    08f0ebd4-950c-4dd9-8e97-b5bdf073eed1      web   \n",
       "..                                    ...      ...   \n",
       "995  8bc047ac-dc03-4a61-8037-7371f729fa34      web   \n",
       "996  8bc047ac-dc03-4a61-8037-7371f729fa34      web   \n",
       "997  3f78ac76-6f81-43ec-85e8-f3cf74fc8fdc      web   \n",
       "998  3f78ac76-6f81-43ec-85e8-f3cf74fc8fdc      web   \n",
       "999  1408b7ab-6450-4337-b57d-fd8a64b7fe97      web   \n",
       "\n",
       "                                            user_agent                 date  \n",
       "0    Mozilla/5.0 (Macintosh; Intel Mac OS X 10_11_2...  2023-03-01T13:29:22  \n",
       "1    Mozilla/5.0 (X11; CrOS x86_64 8172.45.0) Apple...  2023-03-01T16:44:28  \n",
       "2    Mozilla/5.0 (X11; CrOS x86_64 8172.45.0) Apple...  2023-03-06T06:12:36  \n",
       "3    Mozilla/5.0 (X11; Ubuntu; Linux x86_64; rv:109...  2023-03-01T20:16:37  \n",
       "4    Mozilla/5.0 (X11; Ubuntu; Linux x86_64; rv:109...  2023-03-05T17:42:47  \n",
       "..                                                 ...                  ...  \n",
       "995  Mozilla/5.0 (X11; Ubuntu; Linux x86_64; rv:15....  2023-03-02T23:57:06  \n",
       "996  Mozilla/5.0 (X11; Ubuntu; Linux x86_64; rv:15....  2023-03-07T23:05:08  \n",
       "997  Mozilla/5.0 (Macintosh; Intel Mac OS X 10_15_7...  2023-03-02T12:47:09  \n",
       "998  Mozilla/5.0 (Macintosh; Intel Mac OS X 10_15_7...  2023-03-07T00:07:34  \n",
       "999  Mozilla/5.0 (Windows NT 10.0; Win64; x64) Appl...  2023-03-02T10:10:51  \n",
       "\n",
       "[1000 rows x 4 columns]>"
      ]
     },
     "execution_count": 5,
     "metadata": {},
     "output_type": "execute_result"
    }
   ],
   "source": [
    "url = 'https://drive.google.com/uc?id=1QosQQ4RRNR9rkL4t7sB707h2Uy0XfYJe&export=download'\n",
    "df = pd.read_csv(url)\n",
    "#df.head()\n",
    "df.describe"
   ]
  },
  {
   "cell_type": "code",
   "execution_count": 6,
   "id": "67a64b7e-d47c-4e92-932c-398864afdef9",
   "metadata": {},
   "outputs": [
    {
     "data": {
      "text/plain": [
       "<bound method NDFrame.describe of                     date  user_id                    email platform  \\\n",
       "0    2023-03-01T00:25:39  8838849     joseph95@example.org      web   \n",
       "1    2023-03-01T14:53:01  8741065  janetsuarez@example.net      web   \n",
       "2    2023-03-01T14:27:36  1866654     robert67@example.org      web   \n",
       "3    2023-03-01T02:42:34  1577584         elam@example.net      web   \n",
       "4    2023-03-01T10:27:14  4765395  stephanie68@example.net      web   \n",
       "..                   ...      ...                      ...      ...   \n",
       "995  2023-03-05T03:19:40  6414793  jerryrivera@example.com  android   \n",
       "996  2023-03-05T15:03:48    53167      laura65@example.net  android   \n",
       "997  2023-03-05T09:51:08  4969623    jasmine42@example.net  android   \n",
       "998  2023-03-05T16:25:59  7636873  imclaughlin@example.net  android   \n",
       "999  2023-03-05T11:17:41  7551697  jacobgarcia@example.org  android   \n",
       "\n",
       "    registration_type  \n",
       "0              google  \n",
       "1              yandex  \n",
       "2              google  \n",
       "3               apple  \n",
       "4              yandex  \n",
       "..                ...  \n",
       "995            google  \n",
       "996            google  \n",
       "997             email  \n",
       "998            google  \n",
       "999            google  \n",
       "\n",
       "[1000 rows x 5 columns]>"
      ]
     },
     "execution_count": 6,
     "metadata": {},
     "output_type": "execute_result"
    }
   ],
   "source": [
    "url = 'https://drive.google.com/uc?id=1AeQz0kaSgz0lxYSDtuNm36muhy5fRCzZ&export=download'\n",
    "df = pd.read_csv(url)\n",
    "#df.head()\n",
    "df.describe\n"
   ]
  },
  {
   "cell_type": "markdown",
   "id": "e5e509cc-41ee-4b68-83b8-3eadc4ec58be",
   "metadata": {},
   "source": [
    "## Шаг 2\n",
    "Не смог протестировать, т.к. есть проблемы с доступом по api"
   ]
  },
  {
   "cell_type": "code",
   "execution_count": null,
   "id": "0318ba44-c0a1-4874-b171-4df03011fcfe",
   "metadata": {},
   "outputs": [],
   "source": [
    "start_dt = '2023-03-01'\n",
    "finish_dt = '2023-09-01'\n",
    "site = 'https://data-charts-api.hexlet.app'\n",
    "visits_mask = f\"/visits?begin={start_dt}&end={finish_dt}\"\n",
    "registrations_mask = f\"/registrations?begin={start_dt}&end={finish_dt}\"\n",
    "visits_url = site + visits_mask\n",
    "registrations_url = site + registrations_mask\n",
    "\n",
    "response_visits = requests.get(visits_url)\n",
    "response_registrations = requests.get(registrations_url)\n",
    "\n",
    "df_visits = pd.DataFrame(response_visits.json())\n",
    "df_registrations = pd.DataFrame(response_registrations.json())\n",
    "\n",
    "df_visits.head()\n",
    "df_registrations.head()"
   ]
  }
 ],
 "metadata": {
  "kernelspec": {
   "display_name": "Python [conda env:base] *",
   "language": "python",
   "name": "conda-base-py"
  },
  "language_info": {
   "codemirror_mode": {
    "name": "ipython",
    "version": 3
   },
   "file_extension": ".py",
   "mimetype": "text/x-python",
   "name": "python",
   "nbconvert_exporter": "python",
   "pygments_lexer": "ipython3",
   "version": "3.12.7"
  }
 },
 "nbformat": 4,
 "nbformat_minor": 5
}
